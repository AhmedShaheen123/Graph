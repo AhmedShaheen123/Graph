{
 "cells": [
  {
   "cell_type": "markdown",
   "id": "3979ce64",
   "metadata": {},
   "source": [
    "# the graph which we will use "
   ]
  },
  {
   "cell_type": "code",
   "execution_count": 1,
   "id": "905d07fa",
   "metadata": {},
   "outputs": [],
   "source": [
    "graph = {\n",
    "   'a':['c','b'],\n",
    "    'b':['d'],\n",
    "    'c':['e'],\n",
    "    'd':['f'],\n",
    "    'e':[],\n",
    "    'f':['o','z','w'],\n",
    "    'o':[],\n",
    "    'z':[],\n",
    "    'w':[]\n",
    "}"
   ]
  },
  {
   "cell_type": "markdown",
   "id": "3825c742",
   "metadata": {},
   "source": [
    "# Depth First"
   ]
  },
  {
   "cell_type": "code",
   "execution_count": 2,
   "id": "ed1de2a7",
   "metadata": {},
   "outputs": [],
   "source": [
    "def depthFirstPrint(graph,source):\n",
    "    '''\n",
    "    fisrt arg : the graph\n",
    "    second arg : the start node\n",
    "    '''\n",
    "    stack = [source]\n",
    "    while len(stack)>0:\n",
    "        current = stack.pop()\n",
    "        print(current)\n",
    "        for neighbor in graph[current]:\n",
    "            stack.append(neighbor)\n"
   ]
  },
  {
   "cell_type": "code",
   "execution_count": 3,
   "id": "d11a3b65",
   "metadata": {},
   "outputs": [
    {
     "name": "stdout",
     "output_type": "stream",
     "text": [
      "b\n",
      "d\n",
      "f\n",
      "w\n",
      "z\n",
      "o\n"
     ]
    }
   ],
   "source": [
    "depthFirstPrint(graph,'b')"
   ]
  },
  {
   "cell_type": "markdown",
   "id": "49591dcb",
   "metadata": {},
   "source": [
    "# Depth First by recursion"
   ]
  },
  {
   "cell_type": "code",
   "execution_count": 4,
   "id": "5371eba8",
   "metadata": {},
   "outputs": [],
   "source": [
    "def depthFirstRecursion(graph,source):\n",
    "        print(source)\n",
    "        for neighbor in graph[source]:\n",
    "            depthFirstRecursion(graph,neighbor)"
   ]
  },
  {
   "cell_type": "code",
   "execution_count": 5,
   "id": "6abb5275",
   "metadata": {},
   "outputs": [
    {
     "name": "stdout",
     "output_type": "stream",
     "text": [
      "a\n",
      "c\n",
      "e\n",
      "b\n",
      "d\n",
      "f\n",
      "o\n",
      "z\n",
      "w\n"
     ]
    }
   ],
   "source": [
    "depthFirstRecursion(graph,'a')"
   ]
  },
  {
   "cell_type": "code",
   "execution_count": 6,
   "id": "9cb09b66",
   "metadata": {},
   "outputs": [
    {
     "name": "stdout",
     "output_type": "stream",
     "text": [
      "Help on class list in module builtins:\n",
      "\n",
      "class list(object)\n",
      " |  list(iterable=(), /)\n",
      " |  \n",
      " |  Built-in mutable sequence.\n",
      " |  \n",
      " |  If no argument is given, the constructor creates a new empty list.\n",
      " |  The argument must be an iterable if specified.\n",
      " |  \n",
      " |  Methods defined here:\n",
      " |  \n",
      " |  __add__(self, value, /)\n",
      " |      Return self+value.\n",
      " |  \n",
      " |  __contains__(self, key, /)\n",
      " |      Return key in self.\n",
      " |  \n",
      " |  __delitem__(self, key, /)\n",
      " |      Delete self[key].\n",
      " |  \n",
      " |  __eq__(self, value, /)\n",
      " |      Return self==value.\n",
      " |  \n",
      " |  __ge__(self, value, /)\n",
      " |      Return self>=value.\n",
      " |  \n",
      " |  __getattribute__(self, name, /)\n",
      " |      Return getattr(self, name).\n",
      " |  \n",
      " |  __getitem__(...)\n",
      " |      x.__getitem__(y) <==> x[y]\n",
      " |  \n",
      " |  __gt__(self, value, /)\n",
      " |      Return self>value.\n",
      " |  \n",
      " |  __iadd__(self, value, /)\n",
      " |      Implement self+=value.\n",
      " |  \n",
      " |  __imul__(self, value, /)\n",
      " |      Implement self*=value.\n",
      " |  \n",
      " |  __init__(self, /, *args, **kwargs)\n",
      " |      Initialize self.  See help(type(self)) for accurate signature.\n",
      " |  \n",
      " |  __iter__(self, /)\n",
      " |      Implement iter(self).\n",
      " |  \n",
      " |  __le__(self, value, /)\n",
      " |      Return self<=value.\n",
      " |  \n",
      " |  __len__(self, /)\n",
      " |      Return len(self).\n",
      " |  \n",
      " |  __lt__(self, value, /)\n",
      " |      Return self<value.\n",
      " |  \n",
      " |  __mul__(self, value, /)\n",
      " |      Return self*value.\n",
      " |  \n",
      " |  __ne__(self, value, /)\n",
      " |      Return self!=value.\n",
      " |  \n",
      " |  __repr__(self, /)\n",
      " |      Return repr(self).\n",
      " |  \n",
      " |  __reversed__(self, /)\n",
      " |      Return a reverse iterator over the list.\n",
      " |  \n",
      " |  __rmul__(self, value, /)\n",
      " |      Return value*self.\n",
      " |  \n",
      " |  __setitem__(self, key, value, /)\n",
      " |      Set self[key] to value.\n",
      " |  \n",
      " |  __sizeof__(self, /)\n",
      " |      Return the size of the list in memory, in bytes.\n",
      " |  \n",
      " |  append(self, object, /)\n",
      " |      Append object to the end of the list.\n",
      " |  \n",
      " |  clear(self, /)\n",
      " |      Remove all items from list.\n",
      " |  \n",
      " |  copy(self, /)\n",
      " |      Return a shallow copy of the list.\n",
      " |  \n",
      " |  count(self, value, /)\n",
      " |      Return number of occurrences of value.\n",
      " |  \n",
      " |  extend(self, iterable, /)\n",
      " |      Extend list by appending elements from the iterable.\n",
      " |  \n",
      " |  index(self, value, start=0, stop=9223372036854775807, /)\n",
      " |      Return first index of value.\n",
      " |      \n",
      " |      Raises ValueError if the value is not present.\n",
      " |  \n",
      " |  insert(self, index, object, /)\n",
      " |      Insert object before index.\n",
      " |  \n",
      " |  pop(self, index=-1, /)\n",
      " |      Remove and return item at index (default last).\n",
      " |      \n",
      " |      Raises IndexError if list is empty or index is out of range.\n",
      " |  \n",
      " |  remove(self, value, /)\n",
      " |      Remove first occurrence of value.\n",
      " |      \n",
      " |      Raises ValueError if the value is not present.\n",
      " |  \n",
      " |  reverse(self, /)\n",
      " |      Reverse *IN PLACE*.\n",
      " |  \n",
      " |  sort(self, /, *, key=None, reverse=False)\n",
      " |      Sort the list in ascending order and return None.\n",
      " |      \n",
      " |      The sort is in-place (i.e. the list itself is modified) and stable (i.e. the\n",
      " |      order of two equal elements is maintained).\n",
      " |      \n",
      " |      If a key function is given, apply it once to each list item and sort them,\n",
      " |      ascending or descending, according to their function values.\n",
      " |      \n",
      " |      The reverse flag can be set to sort in descending order.\n",
      " |  \n",
      " |  ----------------------------------------------------------------------\n",
      " |  Class methods defined here:\n",
      " |  \n",
      " |  __class_getitem__(...) from builtins.type\n",
      " |      See PEP 585\n",
      " |  \n",
      " |  ----------------------------------------------------------------------\n",
      " |  Static methods defined here:\n",
      " |  \n",
      " |  __new__(*args, **kwargs) from builtins.type\n",
      " |      Create and return a new object.  See help(type) for accurate signature.\n",
      " |  \n",
      " |  ----------------------------------------------------------------------\n",
      " |  Data and other attributes defined here:\n",
      " |  \n",
      " |  __hash__ = None\n",
      "\n"
     ]
    }
   ],
   "source": [
    "help(list)"
   ]
  },
  {
   "cell_type": "markdown",
   "id": "2d78d736",
   "metadata": {},
   "source": [
    "# Breadth First"
   ]
  },
  {
   "cell_type": "code",
   "execution_count": 7,
   "id": "d5cfd5b1",
   "metadata": {},
   "outputs": [],
   "source": [
    "def breadthFirstPrint(graph,source):\n",
    "    '''\n",
    "    fisrt arg : the graph\n",
    "    second arg : the start node\n",
    "    '''\n",
    "    queue = [source]\n",
    "    while len(queue)>0:\n",
    "        current = queue.pop(0)\n",
    "        print(current)\n",
    "        for neighbor in graph[current]:\n",
    "            queue.append(neighbor)\n",
    "    "
   ]
  },
  {
   "cell_type": "code",
   "execution_count": 8,
   "id": "e13fd14c",
   "metadata": {},
   "outputs": [
    {
     "name": "stdout",
     "output_type": "stream",
     "text": [
      "a\n",
      "c\n",
      "b\n",
      "e\n",
      "d\n",
      "f\n",
      "o\n",
      "z\n",
      "w\n"
     ]
    }
   ],
   "source": [
    "breadthFirstPrint(graph,'a')"
   ]
  },
  {
   "cell_type": "markdown",
   "id": "ab93f869",
   "metadata": {},
   "source": [
    "# has path probelm by Deph First"
   ]
  },
  {
   "cell_type": "code",
   "execution_count": 9,
   "id": "c1e0c55d",
   "metadata": {},
   "outputs": [],
   "source": [
    "def hasPathDepth(graph, source, dst):\n",
    "    \"\"\"\n",
    "         first arg: the graph\n",
    "         second arg: the source node\n",
    "         third arg: the destination node\n",
    "    \"\"\"\n",
    "    if source==dst:\n",
    "        return True\n",
    "    for neighbor in graph[source]:\n",
    "        if(hasPathDepth(graph,neighbor,dst)==True):\n",
    "            return True\n",
    "    return False"
   ]
  },
  {
   "cell_type": "code",
   "execution_count": 10,
   "id": "32b17cc1",
   "metadata": {},
   "outputs": [
    {
     "data": {
      "text/plain": [
       "{'a': ['c', 'b'],\n",
       " 'b': ['d'],\n",
       " 'c': ['e'],\n",
       " 'd': ['f'],\n",
       " 'e': [],\n",
       " 'f': ['o', 'z', 'w'],\n",
       " 'o': [],\n",
       " 'z': [],\n",
       " 'w': []}"
      ]
     },
     "execution_count": 10,
     "metadata": {},
     "output_type": "execute_result"
    }
   ],
   "source": [
    "graph"
   ]
  },
  {
   "cell_type": "code",
   "execution_count": 11,
   "id": "7183e39f",
   "metadata": {},
   "outputs": [
    {
     "data": {
      "text/plain": [
       "True"
      ]
     },
     "execution_count": 11,
     "metadata": {},
     "output_type": "execute_result"
    }
   ],
   "source": [
    "hasPathDepth(graph,'a','a')"
   ]
  },
  {
   "cell_type": "code",
   "execution_count": 12,
   "id": "74fad528",
   "metadata": {},
   "outputs": [
    {
     "data": {
      "text/plain": [
       "True"
      ]
     },
     "execution_count": 12,
     "metadata": {},
     "output_type": "execute_result"
    }
   ],
   "source": [
    "hasPathDepth(graph,'b','w')"
   ]
  },
  {
   "cell_type": "code",
   "execution_count": 13,
   "id": "f94043e1",
   "metadata": {},
   "outputs": [
    {
     "data": {
      "text/plain": [
       "False"
      ]
     },
     "execution_count": 13,
     "metadata": {},
     "output_type": "execute_result"
    }
   ],
   "source": [
    "hasPathDepth(graph,'c','w')"
   ]
  },
  {
   "cell_type": "markdown",
   "id": "0cbb032a",
   "metadata": {},
   "source": [
    "# has path Problem by Breadth First"
   ]
  },
  {
   "cell_type": "code",
   "execution_count": 14,
   "id": "96f34ea4",
   "metadata": {},
   "outputs": [],
   "source": [
    "def hasPathBreadth(graph,source,dst):\n",
    "        \"\"\"\n",
    "         first arg: the graph\n",
    "         second arg: the source node\n",
    "         third arg: the destination node\n",
    "    \"\"\"\n",
    "        if source==dst:\n",
    "            return True\n",
    "        queue =[source]\n",
    "        while len(queue)>0:\n",
    "            current = queue.pop(0)\n",
    "            if current==dst:\n",
    "                return True\n",
    "            for neighbor in graph[current]:\n",
    "                queue.append(neighbor)\n",
    "        return False"
   ]
  },
  {
   "cell_type": "code",
   "execution_count": 15,
   "id": "46a9ac23",
   "metadata": {},
   "outputs": [
    {
     "data": {
      "text/plain": [
       "True"
      ]
     },
     "execution_count": 15,
     "metadata": {},
     "output_type": "execute_result"
    }
   ],
   "source": [
    "hasPathBreadth(graph,'c','e')"
   ]
  },
  {
   "cell_type": "markdown",
   "id": "c7373ccf",
   "metadata": {},
   "source": [
    "# Undirected Graph"
   ]
  },
  {
   "cell_type": "markdown",
   "id": "ab8f1e28",
   "metadata": {},
   "source": [
    "##### build graph"
   ]
  },
  {
   "cell_type": "code",
   "execution_count": 16,
   "id": "8b03d005",
   "metadata": {},
   "outputs": [],
   "source": [
    "edges =  [['i','j'],\n",
    "          ['k','i'],\n",
    "          ['k','j'],\n",
    "          ['m','k'], \n",
    "          ['k','l'], \n",
    "          ['o','n']]"
   ]
  },
  {
   "cell_type": "code",
   "execution_count": 17,
   "id": "425f9919",
   "metadata": {},
   "outputs": [],
   "source": [
    "def buildGraph(edges):\n",
    "    \"\"\"\n",
    "    its func to build graph from edges adjacency list\n",
    "    \"\"\"\n",
    "    graph = {}\n",
    "    for edge in edges:\n",
    "        a,b = edge\n",
    "        if a not in graph:\n",
    "            graph[a] = []\n",
    "        if b not in graph:\n",
    "            graph[b] = []\n",
    "        graph[a].append(b)\n",
    "        graph[b].append(a)\n",
    "    return graph"
   ]
  },
  {
   "cell_type": "code",
   "execution_count": 18,
   "id": "c5d23869",
   "metadata": {},
   "outputs": [],
   "source": [
    "def hasPathTwo(graph,src,dst,visited):\n",
    "    if(src == dst):\n",
    "        return True\n",
    "    #here he cheack if the curr node in visited or not it will be in visited if it loop agin onn it or\n",
    "    if src in visited:\n",
    "        return False\n",
    "    visited.add(src)\n",
    "    for neighbor in graph[src]:\n",
    "        if hasPathTwo(graph,neighbor,dst,visited) == True:\n",
    "            return True\n",
    "        \n",
    "    return False"
   ]
  },
  {
   "cell_type": "code",
   "execution_count": 19,
   "id": "5c6bd201",
   "metadata": {},
   "outputs": [],
   "source": [
    "graph = buildGraph(edges)"
   ]
  },
  {
   "cell_type": "code",
   "execution_count": 20,
   "id": "fcfb5f69",
   "metadata": {},
   "outputs": [
    {
     "data": {
      "text/plain": [
       "{'i': ['j', 'k'],\n",
       " 'j': ['i', 'k'],\n",
       " 'k': ['i', 'j', 'm', 'l'],\n",
       " 'm': ['k'],\n",
       " 'l': ['k'],\n",
       " 'o': ['n'],\n",
       " 'n': ['o']}"
      ]
     },
     "execution_count": 20,
     "metadata": {},
     "output_type": "execute_result"
    }
   ],
   "source": [
    "graph"
   ]
  },
  {
   "cell_type": "code",
   "execution_count": 21,
   "id": "97ff7faf",
   "metadata": {},
   "outputs": [
    {
     "data": {
      "text/plain": [
       "True"
      ]
     },
     "execution_count": 21,
     "metadata": {},
     "output_type": "execute_result"
    }
   ],
   "source": [
    "hasPathTwo(graph,'i','l',set())"
   ]
  },
  {
   "cell_type": "markdown",
   "id": "4d223b02",
   "metadata": {},
   "source": [
    "# connected components count"
   ]
  },
  {
   "cell_type": "code",
   "execution_count": 22,
   "id": "7ea772a0",
   "metadata": {},
   "outputs": [],
   "source": [
    "def explore(graph,current,visited):\n",
    "    if(current in visited):\n",
    "        return False\n",
    "    visited.add(current)\n",
    "    for neighbor in graph[current]:\n",
    "        explore(graph,neighbor,visited)\n",
    "    return True"
   ]
  },
  {
   "cell_type": "code",
   "execution_count": 23,
   "id": "e2b87ec3",
   "metadata": {},
   "outputs": [],
   "source": [
    "def connectedComponentsCount(graph):\n",
    "    visited = set()\n",
    "    count = 0\n",
    "    for node in graph:\n",
    "        if(explore(graph,node,visited)==True):\n",
    "            count+=1\n",
    "    return count"
   ]
  },
  {
   "cell_type": "code",
   "execution_count": 49,
   "id": "a7b188da",
   "metadata": {},
   "outputs": [],
   "source": [
    "connected_graph={0:[8,1,5],\n",
    "                1:[0],\n",
    "                5:[0,8],\n",
    "                8:[0,5],\n",
    "                2:[3,4],\n",
    "                3:[2,4,6],\n",
    "                4:[3,2,7],\n",
    "                7:[4],\n",
    "                6:[3,9],\n",
    "                9:[6,50],\n",
    "                10:[20,40],\n",
    "                20:[10,80,30],\n",
    "                40:[10,50],\n",
    "                50:[40,9],\n",
    "                80:[20],\n",
    "                30:[20,70],\n",
    "                70:[30]}"
   ]
  },
  {
   "cell_type": "code",
   "execution_count": 25,
   "id": "3fc98fe5",
   "metadata": {},
   "outputs": [
    {
     "data": {
      "text/plain": [
       "3"
      ]
     },
     "execution_count": 25,
     "metadata": {},
     "output_type": "execute_result"
    }
   ],
   "source": [
    "count = connectedComponentsCount(connected_graph)\n",
    "count"
   ]
  },
  {
   "cell_type": "markdown",
   "id": "32f0505c",
   "metadata": {},
   "source": [
    "# largest Component"
   ]
  },
  {
   "cell_type": "markdown",
   "id": "64d23425",
   "metadata": {},
   "source": [
    "## here we will use explore fun from previous lessons  "
   ]
  },
  {
   "cell_type": "code",
   "execution_count": 26,
   "id": "3b43b042",
   "metadata": {},
   "outputs": [],
   "source": [
    "def largestConnectedComponents(graph):\n",
    "    visited = set()\n",
    "    leen=0\n",
    "    size = []\n",
    "    for node in graph:\n",
    "        if(explore(graph,node,visited)==True):\n",
    "            size.append(len(visited)-leen)\n",
    "            print(list(visited)[leen:len(visited)])\n",
    "            leen=len(visited)\n",
    "    return max(size)"
   ]
  },
  {
   "cell_type": "code",
   "execution_count": 27,
   "id": "cfa0618b",
   "metadata": {},
   "outputs": [
    {
     "name": "stdout",
     "output_type": "stream",
     "text": [
      "[0, 8, 5, 1]\n",
      "[4, 5, 6, 7, 8, 9]\n",
      "[10, 70, 40, 80, 50, 20, 30]\n"
     ]
    },
    {
     "data": {
      "text/plain": [
       "7"
      ]
     },
     "execution_count": 27,
     "metadata": {},
     "output_type": "execute_result"
    }
   ],
   "source": [
    "maax = largestConnectedComponents(connected_graph)\n",
    "maax"
   ]
  },
  {
   "cell_type": "markdown",
   "id": "d554c4ac",
   "metadata": {},
   "source": [
    "# Shortest Path"
   ]
  },
  {
   "cell_type": "code",
   "execution_count": 43,
   "id": "68f4fdd9",
   "metadata": {},
   "outputs": [],
   "source": [
    "def shortestpath(graph, nodeA, nodeB):\n",
    "    visited = set()\n",
    "#     graph = buildGraph(edges)\n",
    "    queu = [[nodeA,0]]\n",
    "    while len(queu)>0:\n",
    "        node,distance = queu.pop(0)\n",
    "        if(node==nodeB):\n",
    "            return distance\n",
    "        for neighbor in graph[node]:\n",
    "            if(neighbor not in visited):\n",
    "                visited.add(neighbor)\n",
    "                queu.append([neighbor,distance+1])\n",
    "    \n",
    "    return -1"
   ]
  },
  {
   "cell_type": "code",
   "execution_count": 50,
   "id": "2a12898d",
   "metadata": {},
   "outputs": [
    {
     "data": {
      "text/plain": [
       "10"
      ]
     },
     "execution_count": 50,
     "metadata": {},
     "output_type": "execute_result"
    }
   ],
   "source": [
    "shortestpath(connected_graph,7,70)"
   ]
  },
  {
   "cell_type": "markdown",
   "id": "b85cc893",
   "metadata": {},
   "source": [
    "# Island Count"
   ]
  },
  {
   "cell_type": "code",
   "execution_count": 129,
   "id": "873c3a81",
   "metadata": {},
   "outputs": [],
   "source": [
    "def exploreIsland(gride,r,c,visited):\n",
    "    rowIsTrue = 0 <= r and r<len(gride)\n",
    "    colIsTrue = 0 <=c and c<len(gride[0])\n",
    "    if(rowIsTrue==False or colIsTrue ==False):\n",
    "        return False\n",
    "    if gride[r][c]=='W':\n",
    "        return False\n",
    "    pos = str(r) + ',' + str(c)\n",
    "    if pos in visited:\n",
    "        return False\n",
    "    visited.add(pos)\n",
    "    exploreIsland(gride,r-1,c,visited)\n",
    "    exploreIsland(gride,r+1,c,visited)\n",
    "    exploreIsland(gride,r,c-1,visited)\n",
    "    exploreIsland(gride,r,c+1,visited)\n",
    "    return True"
   ]
  },
  {
   "cell_type": "code",
   "execution_count": 133,
   "id": "a98e113d",
   "metadata": {},
   "outputs": [],
   "source": [
    "def islandCount(gride):\n",
    "    visited = set()\n",
    "    count = 0\n",
    "    size = 0\n",
    "    for r in range(len(gride)):\n",
    "        for c in range(len(gride[0])):\n",
    "            if(exploreIsland(gride,r,c,visited)==True):\n",
    "                count+=1\n",
    "    return count"
   ]
  },
  {
   "cell_type": "code",
   "execution_count": 136,
   "id": "86626f97",
   "metadata": {},
   "outputs": [],
   "source": [
    "gride=[ ['W','W','L','L','W','L','W','W','L'],\n",
    "        ['W','L','L','L','W','L','L','W','L'],\n",
    "        ['W','W','L','L','W','L','L','W','W'],\n",
    "        ['W','W','W','W','L','L','W','W','W'],\n",
    "        ['W','W','L','L','W','W','W','W','L'],\n",
    "        ['W','W','L','L','W','L','W','W','L'],\n",
    "        ['W','W','L','L','W','L','W','W','L'],\n",
    "        ['W','W','W','W','W','L','W','W','L'],\n",
    "      ]"
   ]
  },
  {
   "cell_type": "code",
   "execution_count": 137,
   "id": "56c50216",
   "metadata": {},
   "outputs": [
    {
     "data": {
      "text/plain": [
       "6"
      ]
     },
     "execution_count": 137,
     "metadata": {},
     "output_type": "execute_result"
    }
   ],
   "source": [
    "islandCount(gride)"
   ]
  },
  {
   "cell_type": "code",
   "execution_count": 193,
   "id": "6f07bdbf",
   "metadata": {},
   "outputs": [],
   "source": [
    "def exploreIslandM(gride,r,c,visited):\n",
    "    rowIsTrue = 0 <= r and r<len(gride)\n",
    "    colIsTrue = 0 <=c and c<len(gride[0])\n",
    "    if(rowIsTrue==False or colIsTrue ==False):\n",
    "        return False\n",
    "    if gride[r][c]=='W':\n",
    "        return False\n",
    "    pos = str(r) + ',' + str(c)\n",
    "    if pos in visited:\n",
    "        return False\n",
    "    if gride[r][c]=='L':\n",
    "        global countL\n",
    "        countL +=1\n",
    "    visited.add(pos)\n",
    "    exploreIslandM(gride,r-1,c,visited)\n",
    "    exploreIslandM(gride,r+1,c,visited)\n",
    "    exploreIslandM(gride,r,c-1,visited)\n",
    "    exploreIslandM(gride,r,c+1,visited)\n",
    "    return True"
   ]
  },
  {
   "cell_type": "code",
   "execution_count": 203,
   "id": "43c2bcde",
   "metadata": {},
   "outputs": [],
   "source": [
    "def minimumIsland(gride):\n",
    "    #make globale variable to incease it in the scobe of explore and use its value here \n",
    "    global countL\n",
    "    countL=0\n",
    "    visited = set()\n",
    "    count = 0\n",
    "    size = []\n",
    "    for r in range(len(gride)):\n",
    "        for c in range(len(gride[0])):\n",
    "            if(exploreIslandM(gride,r,c,visited)==True):\n",
    "                count+=1\n",
    "                print(countL)\n",
    "                size.append(countL)\n",
    "                countL = 0\n",
    "    print(size)\n",
    "    return min(size)"
   ]
  },
  {
   "cell_type": "code",
   "execution_count": 204,
   "id": "db44f8c8",
   "metadata": {},
   "outputs": [
    {
     "name": "stdout",
     "output_type": "stream",
     "text": [
      "7\n",
      "7\n",
      "2\n",
      "6\n",
      "4\n",
      "3\n",
      "[7, 7, 2, 6, 4, 3]\n"
     ]
    },
    {
     "data": {
      "text/plain": [
       "2"
      ]
     },
     "execution_count": 204,
     "metadata": {},
     "output_type": "execute_result"
    }
   ],
   "source": [
    "minimumIsland(gride)"
   ]
  },
  {
   "cell_type": "code",
   "execution_count": null,
   "id": "fdfc1593",
   "metadata": {},
   "outputs": [],
   "source": []
  },
  {
   "cell_type": "code",
   "execution_count": null,
   "id": "95613126",
   "metadata": {},
   "outputs": [],
   "source": []
  }
 ],
 "metadata": {
  "kernelspec": {
   "display_name": "Python 3 (ipykernel)",
   "language": "python",
   "name": "python3"
  },
  "language_info": {
   "codemirror_mode": {
    "name": "ipython",
    "version": 3
   },
   "file_extension": ".py",
   "mimetype": "text/x-python",
   "name": "python",
   "nbconvert_exporter": "python",
   "pygments_lexer": "ipython3",
   "version": "3.9.7"
  }
 },
 "nbformat": 4,
 "nbformat_minor": 5
}
